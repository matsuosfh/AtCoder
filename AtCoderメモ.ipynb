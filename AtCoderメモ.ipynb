{
 "cells": [
  {
   "cell_type": "code",
   "execution_count": 1,
   "metadata": {
    "collapsed": true,
    "pycharm": {
     "name": "#%%　メモ\n",
     "is_executing": false
    }
   },
   "outputs": [
    {
     "data": {
      "text/plain": "2"
     },
     "metadata": {},
     "output_type": "execute_result",
     "execution_count": 1
    }
   ],
   "source": [
    "##リスト内のソート\n",
    "\n",
    "list1 = [[1,5,3], [6,4,8], [9,11,2]]\n",
    "print('ソート前：{}'.format(list1))\n",
    " \n",
    "list1.sort(key=itemgetter(0))\n",
    "print('ソート後(0番目の要素)：{}'.format(list1))\n",
    " \n",
    "list1.sort(key=itemgetter(1))\n",
    "print('ソート後(1番目の要素)：{}'.format(list1))\n",
    " \n",
    "list1.sort(key=itemgetter(2))\n",
    "print('ソート後(2番目の要素)：{}'.format(list1))\n",
    "\n",
    "# 数値を配列に分割する\n",
    "# 文字列にして配列にする"
   ]
  }
 ],
 "metadata": {
  "language_info": {
   "codemirror_mode": {
    "name": "ipython",
    "version": 2
   },
   "file_extension": ".py",
   "mimetype": "text/x-python",
   "name": "python",
   "nbconvert_exporter": "python",
   "pygments_lexer": "ipython2",
   "version": "2.7.6"
  },
  "kernelspec": {
   "name": "python3",
   "language": "python",
   "display_name": "Python 3"
  },
  "pycharm": {
   "stem_cell": {
    "cell_type": "raw",
    "source": [],
    "metadata": {
     "collapsed": false
    }
   }
  }
 },
 "nbformat": 4,
 "nbformat_minor": 0
}