{
 "cells": [
  {
   "cell_type": "code",
   "execution_count": 1,
   "metadata": {
    "collapsed": true
   },
   "outputs": [
    {
     "data": {
      "text/plain": "                     id             dateAdded           dateUpdated  \\\n0  AVz3Y-7h3D1zeR_xDAqm  2017-06-30T05:05:40Z  2019-05-01T15:43:09Z   \n1  AVweGPFF_7pvs4fzAAzQ  2016-04-02T04:02:49Z  2019-05-01T15:27:50Z   \n2  AVwdRGa9_7pvs4fz4E3K  2016-03-03T18:39:49Z  2019-05-01T12:52:25Z   \n3  AVwdX4psIN2L1WUfvJB1  2016-03-29T05:08:59Z  2019-05-01T12:52:20Z   \n4  AVwdaeTtkufWRAb55pSH  2016-03-31T02:34:04Z  2019-05-01T12:50:45Z   \n\n             address                                         categories  \\\n0   4203 E Kiehl Ave  Pizza,Restaurant,American restaurants,Pizza Pl...   \n1  25 E Camelback Rd                      Pizza,Pizza Place,Restaurants   \n2    3703 Paxton Ave                 Restaurant,Pizza Place,Restaurants   \n3    30495 John R Rd       Pizza,Carry-out food,Pizza Place,Restaurants   \n4   3600 Eastern Ave  Pizza,American restaurants,Pizza Place,Pizza e...   \n\n               primaryCategories             city country  \\\n0  Accommodation & Food Services         Sherwood      US   \n1  Accommodation & Food Services          Phoenix      US   \n2  Accommodation & Food Services       Cincinnati      US   \n3  Accommodation & Food Services  Madison Heights      US   \n4  Accommodation & Food Services        Baltimore      US   \n\n                                           keys   latitude   ...     \\\n0      us/ar/sherwood/4203ekiehlave/-1051391616  34.832300   ...      \n1       us/az/phoenix/25ecamelbackrd/-727422936  33.509266   ...      \n2     us/oh/cincinnati/3703paxtonave/-619797122  39.144883   ...      \n3  us/mi/madisonheights/30495johnrrd/-874863116  42.516669   ...      \n4    us/md/baltimore/3600easternave/-1270965359  39.286630   ...      \n\n   menus.currency                                     menus.dateSeen  \\\n0             USD  2018-05-01T04:25:37.197Z,2018-04-16T04:36:02.3...   \n1             USD  2018-03-03T02:38:06.381Z,2018-01-18T20:18:10.0...   \n2             USD  2018-04-10T07:58:34.585Z,2018-04-21T05:43:21.4...   \n3             USD          2016-10-20T21:50:02Z,2016-03-29T05:08:59Z   \n4             USD                               2016-03-31T02:34:04Z   \n\n                                   menus.description    menus.name  \\\n0                                                NaN  Cheese Pizza   \n1                                                NaN  Pizza Cookie   \n2  a saucelessampcomma double cheese pizza with a...  Pizza Blanca   \n3                                                NaN   Small Pizza   \n4                                                NaN     Pizza Sub   \n\n                  name postalCode priceRangeCurrency priceRangeMin  \\\n0   Shotgun Dans Pizza      72120                USD             0   \n1     Sauce Pizza Wine      85012                USD             0   \n2        Mios Pizzeria      45209                USD             0   \n3  Hungry Howies Pizza      48071                USD            25   \n4     Spartan Pizzeria      21224                USD             0   \n\n  priceRangeMax province  \n0            25       AR  \n1            25       AZ  \n2            25       OH  \n3            40       MI  \n4            25       MD  \n\n[5 rows x 24 columns]",
      "text/html": "<div>\n<style scoped>\n    .dataframe tbody tr th:only-of-type {\n        vertical-align: middle;\n    }\n\n    .dataframe tbody tr th {\n        vertical-align: top;\n    }\n\n    .dataframe thead th {\n        text-align: right;\n    }\n</style>\n<table border=\"1\" class=\"dataframe\">\n  <thead>\n    <tr style=\"text-align: right;\">\n      <th></th>\n      <th>id</th>\n      <th>dateAdded</th>\n      <th>dateUpdated</th>\n      <th>address</th>\n      <th>categories</th>\n      <th>primaryCategories</th>\n      <th>city</th>\n      <th>country</th>\n      <th>keys</th>\n      <th>latitude</th>\n      <th>...</th>\n      <th>menus.currency</th>\n      <th>menus.dateSeen</th>\n      <th>menus.description</th>\n      <th>menus.name</th>\n      <th>name</th>\n      <th>postalCode</th>\n      <th>priceRangeCurrency</th>\n      <th>priceRangeMin</th>\n      <th>priceRangeMax</th>\n      <th>province</th>\n    </tr>\n  </thead>\n  <tbody>\n    <tr>\n      <th>0</th>\n      <td>AVz3Y-7h3D1zeR_xDAqm</td>\n      <td>2017-06-30T05:05:40Z</td>\n      <td>2019-05-01T15:43:09Z</td>\n      <td>4203 E Kiehl Ave</td>\n      <td>Pizza,Restaurant,American restaurants,Pizza Pl...</td>\n      <td>Accommodation &amp; Food Services</td>\n      <td>Sherwood</td>\n      <td>US</td>\n      <td>us/ar/sherwood/4203ekiehlave/-1051391616</td>\n      <td>34.832300</td>\n      <td>...</td>\n      <td>USD</td>\n      <td>2018-05-01T04:25:37.197Z,2018-04-16T04:36:02.3...</td>\n      <td>NaN</td>\n      <td>Cheese Pizza</td>\n      <td>Shotgun Dans Pizza</td>\n      <td>72120</td>\n      <td>USD</td>\n      <td>0</td>\n      <td>25</td>\n      <td>AR</td>\n    </tr>\n    <tr>\n      <th>1</th>\n      <td>AVweGPFF_7pvs4fzAAzQ</td>\n      <td>2016-04-02T04:02:49Z</td>\n      <td>2019-05-01T15:27:50Z</td>\n      <td>25 E Camelback Rd</td>\n      <td>Pizza,Pizza Place,Restaurants</td>\n      <td>Accommodation &amp; Food Services</td>\n      <td>Phoenix</td>\n      <td>US</td>\n      <td>us/az/phoenix/25ecamelbackrd/-727422936</td>\n      <td>33.509266</td>\n      <td>...</td>\n      <td>USD</td>\n      <td>2018-03-03T02:38:06.381Z,2018-01-18T20:18:10.0...</td>\n      <td>NaN</td>\n      <td>Pizza Cookie</td>\n      <td>Sauce Pizza Wine</td>\n      <td>85012</td>\n      <td>USD</td>\n      <td>0</td>\n      <td>25</td>\n      <td>AZ</td>\n    </tr>\n    <tr>\n      <th>2</th>\n      <td>AVwdRGa9_7pvs4fz4E3K</td>\n      <td>2016-03-03T18:39:49Z</td>\n      <td>2019-05-01T12:52:25Z</td>\n      <td>3703 Paxton Ave</td>\n      <td>Restaurant,Pizza Place,Restaurants</td>\n      <td>Accommodation &amp; Food Services</td>\n      <td>Cincinnati</td>\n      <td>US</td>\n      <td>us/oh/cincinnati/3703paxtonave/-619797122</td>\n      <td>39.144883</td>\n      <td>...</td>\n      <td>USD</td>\n      <td>2018-04-10T07:58:34.585Z,2018-04-21T05:43:21.4...</td>\n      <td>a saucelessampcomma double cheese pizza with a...</td>\n      <td>Pizza Blanca</td>\n      <td>Mios Pizzeria</td>\n      <td>45209</td>\n      <td>USD</td>\n      <td>0</td>\n      <td>25</td>\n      <td>OH</td>\n    </tr>\n    <tr>\n      <th>3</th>\n      <td>AVwdX4psIN2L1WUfvJB1</td>\n      <td>2016-03-29T05:08:59Z</td>\n      <td>2019-05-01T12:52:20Z</td>\n      <td>30495 John R Rd</td>\n      <td>Pizza,Carry-out food,Pizza Place,Restaurants</td>\n      <td>Accommodation &amp; Food Services</td>\n      <td>Madison Heights</td>\n      <td>US</td>\n      <td>us/mi/madisonheights/30495johnrrd/-874863116</td>\n      <td>42.516669</td>\n      <td>...</td>\n      <td>USD</td>\n      <td>2016-10-20T21:50:02Z,2016-03-29T05:08:59Z</td>\n      <td>NaN</td>\n      <td>Small Pizza</td>\n      <td>Hungry Howies Pizza</td>\n      <td>48071</td>\n      <td>USD</td>\n      <td>25</td>\n      <td>40</td>\n      <td>MI</td>\n    </tr>\n    <tr>\n      <th>4</th>\n      <td>AVwdaeTtkufWRAb55pSH</td>\n      <td>2016-03-31T02:34:04Z</td>\n      <td>2019-05-01T12:50:45Z</td>\n      <td>3600 Eastern Ave</td>\n      <td>Pizza,American restaurants,Pizza Place,Pizza e...</td>\n      <td>Accommodation &amp; Food Services</td>\n      <td>Baltimore</td>\n      <td>US</td>\n      <td>us/md/baltimore/3600easternave/-1270965359</td>\n      <td>39.286630</td>\n      <td>...</td>\n      <td>USD</td>\n      <td>2016-03-31T02:34:04Z</td>\n      <td>NaN</td>\n      <td>Pizza Sub</td>\n      <td>Spartan Pizzeria</td>\n      <td>21224</td>\n      <td>USD</td>\n      <td>0</td>\n      <td>25</td>\n      <td>MD</td>\n    </tr>\n  </tbody>\n</table>\n<p>5 rows × 24 columns</p>\n</div>"
     },
     "execution_count": 1,
     "metadata": {},
     "output_type": "execute_result"
    }
   ],
   "source": [
    "import pandas as pd\n",
    "df = pd.read_csv(\"Datafiniti_Pizza_Restaurants_and_the_Pizza_They_Sell_May19.csv\")\n",
    "df.head()\n",
    "\n"
   ]
  }
 ],
 "metadata": {
  "kernelspec": {
   "display_name": "Python 3",
   "language": "python",
   "name": "python3"
  },
  "language_info": {
   "codemirror_mode": {
    "name": "ipython",
    "version": 2
   },
   "file_extension": ".py",
   "mimetype": "text/x-python",
   "name": "python",
   "nbconvert_exporter": "python",
   "pygments_lexer": "ipython2",
   "version": "2.7.6"
  }
 },
 "nbformat": 4,
 "nbformat_minor": 0
}